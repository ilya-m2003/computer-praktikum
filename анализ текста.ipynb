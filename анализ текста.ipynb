{
 "cells": [
  {
   "cell_type": "code",
   "execution_count": 5,
   "id": "1270e70e",
   "metadata": {},
   "outputs": [
    {
     "name": "stdout",
     "output_type": "stream",
     "text": [
      "[('See', 1), ('more', 1), ('books', 1), ('in', 1), ('http', 1), ('www', 1), ('reading', 1), ('co', 1), ('uk', 1)]\n"
     ]
    }
   ],
   "source": [
    "from collections import Counter\n",
    "import re\n",
    "\n",
    "f = \"\".join(open(\"Уэллс_-_Война_миров.txt\").readlines())\n",
    "cnt = Counter(x for x in re.findall(r'[A-z\\']{2,}', f))\n",
    "print(cnt.most_common(20))"
   ]
  },
  {
   "cell_type": "code",
   "execution_count": 9,
   "id": "c37c45cc",
   "metadata": {},
   "outputs": [],
   "source": [
    "txt = \"\".join(open(\"Уэллс_-_Война_миров.txt\").readlines())\n",
    "punct = ',.!?:;'\n",
    "ltxt = [w.rstrip(punct).lower() for w in txt.split() if len(w.rstrip(punct)) > 1]\n",
    "#print(*sorted(set(ltxt), key=ltxt.count, reverse=True)[:20], sep='\\n')"
   ]
  },
  {
   "cell_type": "code",
   "execution_count": 11,
   "id": "b1670538",
   "metadata": {},
   "outputs": [],
   "source": [
    "list_words = [*sorted(set(ltxt), key=ltxt.count, reverse=True)[:20]]"
   ]
  },
  {
   "cell_type": "code",
   "execution_count": 13,
   "id": "abd33d93",
   "metadata": {},
   "outputs": [],
   "source": [
    "list_len = [txt.lower().count(x) for x in list_words]"
   ]
  },
  {
   "cell_type": "code",
   "execution_count": 17,
   "id": "d87fe6ff",
   "metadata": {},
   "outputs": [
    {
     "data": {
      "text/plain": [
       "<BarContainer object of 20 artists>"
      ]
     },
     "execution_count": 17,
     "metadata": {},
     "output_type": "execute_result"
    },
    {
     "data": {
      "image/png": "[encoded data removed]",
      "text/plain": [
       "<Figure size 432x288 with 1 Axes>"
      ]
     },
     "metadata": {
      "needs_background": "light"
     },
     "output_type": "display_data"
    }
   ],
   "source": [
    "#гистограмма самых популярных слов\n",
    "import matplotlib.pyplot as plt\n",
    "plt.barh(list_words, list_len)"
   ]
  },
  {
   "cell_type": "code",
   "execution_count": 19,
   "id": "c704694e",
   "metadata": {},
   "outputs": [
    {
     "name": "stdout",
     "output_type": "stream",
     "text": [
      "39326\n"
     ]
    }
   ],
   "source": [
    "#Количество слов\n",
    "print(len(ltxt))"
   ]
  },
  {
   "cell_type": "code",
   "execution_count": 24,
   "id": "53a8d871",
   "metadata": {},
   "outputs": [
    {
     "name": "stdout",
     "output_type": "stream",
     "text": [
      "2129\n"
     ]
    }
   ],
   "source": [
    "#Количество строк\n",
    "print(txt.count(\"\\n\") + 1)"
   ]
  },
  {
   "cell_type": "code",
   "execution_count": 25,
   "id": "20be5112",
   "metadata": {},
   "outputs": [
    {
     "name": "stdout",
     "output_type": "stream",
     "text": [
      "298375\n"
     ]
    }
   ],
   "source": [
    "#Количество символов\n",
    "print(len(txt))"
   ]
  },
  {
   "cell_type": "code",
   "execution_count": 26,
   "id": "f945fc52",
   "metadata": {},
   "outputs": [
    {
     "name": "stdout",
     "output_type": "stream",
     "text": [
      "254657\n"
     ]
    }
   ],
   "source": [
    "#Количество символов без пробелов\n",
    "print(len([x for x in txt if x != \" \"]))"
   ]
  },
  {
   "cell_type": "code",
   "execution_count": null,
   "id": "a4ee82bc",
   "metadata": {},
   "outputs": [],
   "source": []
  }
 ],
 "metadata": {
  "kernelspec": {
   "display_name": "Python 3",
   "language": "python",
   "name": "python3"
  },
  "language_info": {
   "codemirror_mode": {
    "name": "ipython",
    "version": 3
   },
   "file_extension": ".py",
   "mimetype": "text/x-python",
   "name": "python",
   "nbconvert_exporter": "python",
   "pygments_lexer": "ipython3",
   "version": "3.8.8"
  }
 },
 "nbformat": 4,
 "nbformat_minor": 5
}
